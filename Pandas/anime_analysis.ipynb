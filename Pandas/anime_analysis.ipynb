{
 "cells": [
  {
   "cell_type": "markdown",
   "id": "0e9d5838",
   "metadata": {},
   "source": [
    "# Anime Analysis"
   ]
  },
  {
   "cell_type": "code",
   "execution_count": 57,
   "id": "0400cbd6",
   "metadata": {},
   "outputs": [],
   "source": [
    "import numpy as np\n",
    "import pandas as pd"
   ]
  },
  {
   "cell_type": "markdown",
   "id": "d4e86ad5",
   "metadata": {},
   "source": [
    "`Reading Dataset on Anime`"
   ]
  },
  {
   "cell_type": "code",
   "execution_count": 58,
   "id": "0a7c25fd",
   "metadata": {},
   "outputs": [
    {
     "data": {
      "text/html": [
       "<div>\n",
       "<style scoped>\n",
       "    .dataframe tbody tr th:only-of-type {\n",
       "        vertical-align: middle;\n",
       "    }\n",
       "\n",
       "    .dataframe tbody tr th {\n",
       "        vertical-align: top;\n",
       "    }\n",
       "\n",
       "    .dataframe thead th {\n",
       "        text-align: right;\n",
       "    }\n",
       "</style>\n",
       "<table border=\"1\" class=\"dataframe\">\n",
       "  <thead>\n",
       "    <tr style=\"text-align: right;\">\n",
       "      <th></th>\n",
       "      <th>Rank</th>\n",
       "      <th>Title</th>\n",
       "      <th>Score</th>\n",
       "    </tr>\n",
       "  </thead>\n",
       "  <tbody>\n",
       "    <tr>\n",
       "      <th>0</th>\n",
       "      <td>1</td>\n",
       "      <td>Fullmetal Alchemist: BrotherhoodTV (64 eps)Apr...</td>\n",
       "      <td>9.10</td>\n",
       "    </tr>\n",
       "    <tr>\n",
       "      <th>1</th>\n",
       "      <td>2</td>\n",
       "      <td>Steins;GateTV (24 eps)Apr 2011 - Sep 20112,473...</td>\n",
       "      <td>9.07</td>\n",
       "    </tr>\n",
       "    <tr>\n",
       "      <th>2</th>\n",
       "      <td>3</td>\n",
       "      <td>Bleach: Sennen Kessen-henTV (13 eps)Oct 2022 -...</td>\n",
       "      <td>9.06</td>\n",
       "    </tr>\n",
       "    <tr>\n",
       "      <th>3</th>\n",
       "      <td>4</td>\n",
       "      <td>Gintama°TV (51 eps)Apr 2015 - Mar 2016605,113 ...</td>\n",
       "      <td>9.06</td>\n",
       "    </tr>\n",
       "    <tr>\n",
       "      <th>4</th>\n",
       "      <td>5</td>\n",
       "      <td>Shingeki no Kyojin Season 3 Part 2TV (10 eps)A...</td>\n",
       "      <td>9.05</td>\n",
       "    </tr>\n",
       "    <tr>\n",
       "      <th>5</th>\n",
       "      <td>6</td>\n",
       "      <td>Gintama'TV (51 eps)Apr 2011 - Mar 2012534,105 ...</td>\n",
       "      <td>9.04</td>\n",
       "    </tr>\n",
       "    <tr>\n",
       "      <th>6</th>\n",
       "      <td>7</td>\n",
       "      <td>Gintama: The FinalMovie (1 eps)Jan 2021 - Jan ...</td>\n",
       "      <td>9.04</td>\n",
       "    </tr>\n",
       "    <tr>\n",
       "      <th>7</th>\n",
       "      <td>8</td>\n",
       "      <td>Hunter x Hunter TV (148 eps)Oct 2011 - Sep 201...</td>\n",
       "      <td>9.04</td>\n",
       "    </tr>\n",
       "    <tr>\n",
       "      <th>8</th>\n",
       "      <td>9</td>\n",
       "      <td>Kaguya-sama wa Kokurasetai: Ultra RomanticTV (...</td>\n",
       "      <td>9.04</td>\n",
       "    </tr>\n",
       "    <tr>\n",
       "      <th>9</th>\n",
       "      <td>10</td>\n",
       "      <td>Gintama': EnchousenTV (13 eps)Oct 2012 - Mar 2...</td>\n",
       "      <td>9.03</td>\n",
       "    </tr>\n",
       "  </tbody>\n",
       "</table>\n",
       "</div>"
      ],
      "text/plain": [
       "   Rank                                              Title  Score\n",
       "0     1  Fullmetal Alchemist: BrotherhoodTV (64 eps)Apr...   9.10\n",
       "1     2  Steins;GateTV (24 eps)Apr 2011 - Sep 20112,473...   9.07\n",
       "2     3  Bleach: Sennen Kessen-henTV (13 eps)Oct 2022 -...   9.06\n",
       "3     4  Gintama°TV (51 eps)Apr 2015 - Mar 2016605,113 ...   9.06\n",
       "4     5  Shingeki no Kyojin Season 3 Part 2TV (10 eps)A...   9.05\n",
       "5     6  Gintama'TV (51 eps)Apr 2011 - Mar 2012534,105 ...   9.04\n",
       "6     7  Gintama: The FinalMovie (1 eps)Jan 2021 - Jan ...   9.04\n",
       "7     8  Hunter x Hunter TV (148 eps)Oct 2011 - Sep 201...   9.04\n",
       "8     9  Kaguya-sama wa Kokurasetai: Ultra RomanticTV (...   9.04\n",
       "9    10  Gintama': EnchousenTV (13 eps)Oct 2012 - Mar 2...   9.03"
      ]
     },
     "execution_count": 58,
     "metadata": {},
     "output_type": "execute_result"
    }
   ],
   "source": [
    "df = pd.read_csv(r'..\\datasets\\anime.csv')\n",
    "df.head(10)"
   ]
  },
  {
   "cell_type": "code",
   "execution_count": 59,
   "id": "e33f5902",
   "metadata": {},
   "outputs": [
    {
     "name": "stdout",
     "output_type": "stream",
     "text": [
      "<class 'pandas.core.frame.DataFrame'>\n",
      "RangeIndex: 50 entries, 0 to 49\n",
      "Data columns (total 3 columns):\n",
      " #   Column  Non-Null Count  Dtype  \n",
      "---  ------  --------------  -----  \n",
      " 0   Rank    50 non-null     int64  \n",
      " 1   Title   50 non-null     object \n",
      " 2   Score   50 non-null     float64\n",
      "dtypes: float64(1), int64(1), object(1)\n",
      "memory usage: 1.3+ KB\n"
     ]
    }
   ],
   "source": [
    "df.info()"
   ]
  },
  {
   "cell_type": "markdown",
   "id": "e4284387",
   "metadata": {},
   "source": [
    "### Analysis Criteria"
   ]
  },
  {
   "cell_type": "code",
   "execution_count": 60,
   "id": "911655db",
   "metadata": {},
   "outputs": [],
   "source": [
    "#make a new column for episode cošnt\n",
    "#make a new column for time stampl\n",
    "#which anime has the highest score\n",
    "#give me top 5 highest scoring anime\n",
    "#which anime has the highest episode count\n",
    "#animes with top 5 episode count\n",
    "#which is the longest running anime"
   ]
  },
  {
   "cell_type": "markdown",
   "id": "d997c7dc",
   "metadata": {},
   "source": [
    "`Feature extraction - Title to episode numbers`"
   ]
  },
  {
   "cell_type": "code",
   "execution_count": 61,
   "id": "98abe305",
   "metadata": {},
   "outputs": [
    {
     "data": {
      "text/plain": [
       "0     Fullmetal Alchemist: BrotherhoodTV (64 eps)Apr...\n",
       "1     Steins;GateTV (24 eps)Apr 2011 - Sep 20112,473...\n",
       "2     Bleach: Sennen Kessen-henTV (13 eps)Oct 2022 -...\n",
       "3     Gintama°TV (51 eps)Apr 2015 - Mar 2016605,113 ...\n",
       "4     Shingeki no Kyojin Season 3 Part 2TV (10 eps)A...\n",
       "5     Gintama'TV (51 eps)Apr 2011 - Mar 2012534,105 ...\n",
       "6     Gintama: The FinalMovie (1 eps)Jan 2021 - Jan ...\n",
       "7     Hunter x Hunter TV (148 eps)Oct 2011 - Sep 201...\n",
       "8     Kaguya-sama wa Kokurasetai: Ultra RomanticTV (...\n",
       "9     Gintama': EnchousenTV (13 eps)Oct 2012 - Mar 2...\n",
       "10    Shingeki no Kyojin: The Final Season - Kankets...\n",
       "11    Ginga Eiyuu DensetsuOVA (110 eps)Jan 1988 - Ma...\n",
       "12    Bleach: Sennen Kessen-hen - Ketsubetsu-tanTV (...\n",
       "13    Fruits Basket: The FinalTV (13 eps)Apr 2021 - ...\n",
       "14    Gintama.TV (12 eps)Jan 2017 - Mar 2017302,232 ...\n",
       "15    GintamaTV (201 eps)Apr 2006 - Mar 20101,034,41...\n",
       "16    Koe no KatachiMovie (1 eps)Sep 2016 - Sep 2016...\n",
       "17    3-gatsu no Lion 2nd SeasonTV (22 eps)Oct 2017 ...\n",
       "18    Clannad: After StoryTV (24 eps)Oct 2008 - Mar ...\n",
       "19    Code Geass: Hangyaku no Lelouch R2TV (25 eps)A...\n",
       "20    Gintama Movie 2: Kanketsu-hen - Yorozuya yo Ei...\n",
       "21    Violet Evergarden MovieMovie (1 eps)Sep 2020 -...\n",
       "22    Owarimonogatari 2nd SeasonTV (7 eps)Aug 2017 -...\n",
       "23    Gintama.: Shirogane no Tamashii-hen - Kouhan-s...\n",
       "24    MonsterTV (74 eps)Apr 2004 - Sep 20051,041,081...\n",
       "25    Kimi no Na wa.Movie (1 eps)Aug 2016 - Aug 2016...\n",
       "26    Kaguya-sama wa Kokurasetai: First Kiss wa Owar...\n",
       "27    Bocchi the Rock!TV (12 eps)Oct 2022 - Dec 2022...\n",
       "28    The First Slam DunkMovie (1 eps)Dec 2022 - Dec...\n",
       "29    Vinland Saga Season 2TV (24 eps)Jan 2023 - Jun...\n",
       "30    Jujutsu Kaisen 2nd SeasonTV (23 eps)Jul 2023 -...\n",
       "31    Gintama.: Shirogane no Tamashii-henTV (12 eps)...\n",
       "32    Kingdom 3rd SeasonTV (26 eps)Apr 2020 - Oct 20...\n",
       "33    Mob Psycho 100 IITV (13 eps)Jan 2019 - Apr 201...\n",
       "34    Shingeki no Kyojin: The Final SeasonTV (16 eps...\n",
       "35    Kimetsu no Yaiba: Yuukaku-henTV (11 eps)Dec 20...\n",
       "36    Kizumonogatari III: Reiketsu-henMovie (1 eps)J...\n",
       "37    \"Oshi no Ko\"TV (11 eps)Apr 2023 - Jun 2023645,...\n",
       "38    Haikyuu!! Karasuno Koukou vs. Shiratorizawa Ga...\n",
       "39    Sen to Chihiro no KamikakushiMovie (1 eps)Jul ...\n",
       "40    Monogatari Series: Second SeasonTV (26 eps)Jul...\n",
       "41    Shingeki no Kyojin: The Final Season Part 2TV ...\n",
       "42    Hajime no IppoTV (75 eps)Oct 2000 - Mar 200255...\n",
       "43    Cowboy BebopTV (26 eps)Apr 1998 - Apr 19991,79...\n",
       "44    Kingdom 4th SeasonTV (26 eps)Apr 2022 - Oct 20...\n",
       "45    Vinland SagaTV (24 eps)Jul 2019 - Dec 20191,40...\n",
       "46    Mushishi Zoku Shou 2nd SeasonTV (10 eps)Oct 20...\n",
       "47    Shouwa Genroku Rakugo Shinjuu: Sukeroku Futata...\n",
       "48    Mob Psycho 100 IIITV (12 eps)Oct 2022 - Dec 20...\n",
       "49    Rurouni Kenshin: Meiji Kenkaku Romantan - Tsui...\n",
       "Name: Title, dtype: object"
      ]
     },
     "execution_count": 61,
     "metadata": {},
     "output_type": "execute_result"
    }
   ],
   "source": [
    "\n",
    "df['Title']"
   ]
  },
  {
   "cell_type": "code",
   "execution_count": 62,
   "id": "993f2a60",
   "metadata": {},
   "outputs": [],
   "source": [
    "def extract_episode(txt):\n",
    "    data = ''\n",
    "    check = False\n",
    "    for i in txt:\n",
    "        if i == ')':\n",
    "            break\n",
    "        if i == '(':\n",
    "            check = True\n",
    "            continue\n",
    "        if check == True:\n",
    "            data += i\n",
    "            \n",
    "    return data"
   ]
  },
  {
   "cell_type": "code",
   "execution_count": 63,
   "id": "f91c687a",
   "metadata": {},
   "outputs": [
    {
     "data": {
      "text/html": [
       "<div>\n",
       "<style scoped>\n",
       "    .dataframe tbody tr th:only-of-type {\n",
       "        vertical-align: middle;\n",
       "    }\n",
       "\n",
       "    .dataframe tbody tr th {\n",
       "        vertical-align: top;\n",
       "    }\n",
       "\n",
       "    .dataframe thead th {\n",
       "        text-align: right;\n",
       "    }\n",
       "</style>\n",
       "<table border=\"1\" class=\"dataframe\">\n",
       "  <thead>\n",
       "    <tr style=\"text-align: right;\">\n",
       "      <th></th>\n",
       "      <th>Rank</th>\n",
       "      <th>Title</th>\n",
       "      <th>Score</th>\n",
       "      <th>Episodes</th>\n",
       "    </tr>\n",
       "  </thead>\n",
       "  <tbody>\n",
       "    <tr>\n",
       "      <th>0</th>\n",
       "      <td>1</td>\n",
       "      <td>Fullmetal Alchemist: BrotherhoodTV (64 eps)Apr...</td>\n",
       "      <td>9.10</td>\n",
       "      <td>64 eps</td>\n",
       "    </tr>\n",
       "    <tr>\n",
       "      <th>1</th>\n",
       "      <td>2</td>\n",
       "      <td>Steins;GateTV (24 eps)Apr 2011 - Sep 20112,473...</td>\n",
       "      <td>9.07</td>\n",
       "      <td>24 eps</td>\n",
       "    </tr>\n",
       "    <tr>\n",
       "      <th>2</th>\n",
       "      <td>3</td>\n",
       "      <td>Bleach: Sennen Kessen-henTV (13 eps)Oct 2022 -...</td>\n",
       "      <td>9.06</td>\n",
       "      <td>13 eps</td>\n",
       "    </tr>\n",
       "    <tr>\n",
       "      <th>3</th>\n",
       "      <td>4</td>\n",
       "      <td>Gintama°TV (51 eps)Apr 2015 - Mar 2016605,113 ...</td>\n",
       "      <td>9.06</td>\n",
       "      <td>51 eps</td>\n",
       "    </tr>\n",
       "    <tr>\n",
       "      <th>4</th>\n",
       "      <td>5</td>\n",
       "      <td>Shingeki no Kyojin Season 3 Part 2TV (10 eps)A...</td>\n",
       "      <td>9.05</td>\n",
       "      <td>10 eps</td>\n",
       "    </tr>\n",
       "  </tbody>\n",
       "</table>\n",
       "</div>"
      ],
      "text/plain": [
       "   Rank                                              Title  Score Episodes\n",
       "0     1  Fullmetal Alchemist: BrotherhoodTV (64 eps)Apr...   9.10   64 eps\n",
       "1     2  Steins;GateTV (24 eps)Apr 2011 - Sep 20112,473...   9.07   24 eps\n",
       "2     3  Bleach: Sennen Kessen-henTV (13 eps)Oct 2022 -...   9.06   13 eps\n",
       "3     4  Gintama°TV (51 eps)Apr 2015 - Mar 2016605,113 ...   9.06   51 eps\n",
       "4     5  Shingeki no Kyojin Season 3 Part 2TV (10 eps)A...   9.05   10 eps"
      ]
     },
     "execution_count": 63,
     "metadata": {},
     "output_type": "execute_result"
    }
   ],
   "source": [
    "\n",
    "df['Episodes'] = df['Title'].apply(extract_episode)\n",
    "df.head()"
   ]
  },
  {
   "cell_type": "code",
   "execution_count": 64,
   "id": "08280669",
   "metadata": {},
   "outputs": [
    {
     "data": {
      "text/html": [
       "<div>\n",
       "<style scoped>\n",
       "    .dataframe tbody tr th:only-of-type {\n",
       "        vertical-align: middle;\n",
       "    }\n",
       "\n",
       "    .dataframe tbody tr th {\n",
       "        vertical-align: top;\n",
       "    }\n",
       "\n",
       "    .dataframe thead th {\n",
       "        text-align: right;\n",
       "    }\n",
       "</style>\n",
       "<table border=\"1\" class=\"dataframe\">\n",
       "  <thead>\n",
       "    <tr style=\"text-align: right;\">\n",
       "      <th></th>\n",
       "      <th>Rank</th>\n",
       "      <th>Title</th>\n",
       "      <th>Score</th>\n",
       "      <th>Episodes</th>\n",
       "    </tr>\n",
       "  </thead>\n",
       "  <tbody>\n",
       "    <tr>\n",
       "      <th>0</th>\n",
       "      <td>1</td>\n",
       "      <td>Fullmetal Alchemist: BrotherhoodTV (64 eps)Apr...</td>\n",
       "      <td>9.10</td>\n",
       "      <td>64</td>\n",
       "    </tr>\n",
       "    <tr>\n",
       "      <th>1</th>\n",
       "      <td>2</td>\n",
       "      <td>Steins;GateTV (24 eps)Apr 2011 - Sep 20112,473...</td>\n",
       "      <td>9.07</td>\n",
       "      <td>24</td>\n",
       "    </tr>\n",
       "    <tr>\n",
       "      <th>2</th>\n",
       "      <td>3</td>\n",
       "      <td>Bleach: Sennen Kessen-henTV (13 eps)Oct 2022 -...</td>\n",
       "      <td>9.06</td>\n",
       "      <td>13</td>\n",
       "    </tr>\n",
       "    <tr>\n",
       "      <th>3</th>\n",
       "      <td>4</td>\n",
       "      <td>Gintama°TV (51 eps)Apr 2015 - Mar 2016605,113 ...</td>\n",
       "      <td>9.06</td>\n",
       "      <td>51</td>\n",
       "    </tr>\n",
       "    <tr>\n",
       "      <th>4</th>\n",
       "      <td>5</td>\n",
       "      <td>Shingeki no Kyojin Season 3 Part 2TV (10 eps)A...</td>\n",
       "      <td>9.05</td>\n",
       "      <td>10</td>\n",
       "    </tr>\n",
       "  </tbody>\n",
       "</table>\n",
       "</div>"
      ],
      "text/plain": [
       "   Rank                                              Title  Score  Episodes\n",
       "0     1  Fullmetal Alchemist: BrotherhoodTV (64 eps)Apr...   9.10        64\n",
       "1     2  Steins;GateTV (24 eps)Apr 2011 - Sep 20112,473...   9.07        24\n",
       "2     3  Bleach: Sennen Kessen-henTV (13 eps)Oct 2022 -...   9.06        13\n",
       "3     4  Gintama°TV (51 eps)Apr 2015 - Mar 2016605,113 ...   9.06        51\n",
       "4     5  Shingeki no Kyojin Season 3 Part 2TV (10 eps)A...   9.05        10"
      ]
     },
     "execution_count": 64,
     "metadata": {},
     "output_type": "execute_result"
    }
   ],
   "source": [
    "df['Episodes'] = df['Episodes'].str.replace(' eps','').astype(int)\n",
    "df.head()"
   ]
  },
  {
   "cell_type": "code",
   "execution_count": 65,
   "id": "9ab1a68d",
   "metadata": {},
   "outputs": [
    {
     "name": "stdout",
     "output_type": "stream",
     "text": [
      "<class 'pandas.core.frame.DataFrame'>\n",
      "RangeIndex: 50 entries, 0 to 49\n",
      "Data columns (total 4 columns):\n",
      " #   Column    Non-Null Count  Dtype  \n",
      "---  ------    --------------  -----  \n",
      " 0   Rank      50 non-null     int64  \n",
      " 1   Title     50 non-null     object \n",
      " 2   Score     50 non-null     float64\n",
      " 3   Episodes  50 non-null     int64  \n",
      "dtypes: float64(1), int64(2), object(1)\n",
      "memory usage: 1.7+ KB\n"
     ]
    }
   ],
   "source": [
    "df.info()"
   ]
  },
  {
   "cell_type": "markdown",
   "id": "264f18eb",
   "metadata": {},
   "source": [
    "`Feature Extraction of Time Stamp from Title`"
   ]
  },
  {
   "cell_type": "code",
   "execution_count": 66,
   "id": "07b87fe6",
   "metadata": {},
   "outputs": [
    {
     "data": {
      "text/plain": [
       "0    Fullmetal Alchemist: BrotherhoodTV (64 eps)Apr...\n",
       "1    Steins;GateTV (24 eps)Apr 2011 - Sep 20112,473...\n",
       "3    Gintama°TV (51 eps)Apr 2015 - Mar 2016605,113 ...\n",
       "6    Gintama: The FinalMovie (1 eps)Jan 2021 - Jan ...\n",
       "Name: Title, dtype: object"
      ]
     },
     "execution_count": 66,
     "metadata": {},
     "output_type": "execute_result"
    }
   ],
   "source": [
    "# sample \n",
    "df.loc[[0,1,3,6],'Title']"
   ]
  },
  {
   "cell_type": "code",
   "execution_count": 67,
   "id": "bc05cd38",
   "metadata": {},
   "outputs": [
    {
     "data": {
      "text/plain": [
       "19"
      ]
     },
     "execution_count": 67,
     "metadata": {},
     "output_type": "execute_result"
    }
   ],
   "source": [
    "len('Apr 2015 - Mar 2016') "
   ]
  },
  {
   "cell_type": "code",
   "execution_count": 68,
   "id": "86076f73",
   "metadata": {},
   "outputs": [],
   "source": [
    "def extract_time(txt):\n",
    "    data = ''\n",
    "    for i in range(len(txt)):\n",
    "        if txt[i] == ')':\n",
    "            for j in range(i + 1, i + 20):\n",
    "                data += txt[j]\n",
    "        else:\n",
    "            pass\n",
    "    return data\n",
    "                "
   ]
  },
  {
   "cell_type": "code",
   "execution_count": 69,
   "id": "4fea1e40",
   "metadata": {},
   "outputs": [
    {
     "data": {
      "text/html": [
       "<div>\n",
       "<style scoped>\n",
       "    .dataframe tbody tr th:only-of-type {\n",
       "        vertical-align: middle;\n",
       "    }\n",
       "\n",
       "    .dataframe tbody tr th {\n",
       "        vertical-align: top;\n",
       "    }\n",
       "\n",
       "    .dataframe thead th {\n",
       "        text-align: right;\n",
       "    }\n",
       "</style>\n",
       "<table border=\"1\" class=\"dataframe\">\n",
       "  <thead>\n",
       "    <tr style=\"text-align: right;\">\n",
       "      <th></th>\n",
       "      <th>Rank</th>\n",
       "      <th>Title</th>\n",
       "      <th>Score</th>\n",
       "      <th>Episodes</th>\n",
       "      <th>Time_Stamp</th>\n",
       "    </tr>\n",
       "  </thead>\n",
       "  <tbody>\n",
       "    <tr>\n",
       "      <th>0</th>\n",
       "      <td>1</td>\n",
       "      <td>Fullmetal Alchemist: BrotherhoodTV (64 eps)Apr...</td>\n",
       "      <td>9.10</td>\n",
       "      <td>64</td>\n",
       "      <td>Apr 2009 - Jul 2010</td>\n",
       "    </tr>\n",
       "    <tr>\n",
       "      <th>1</th>\n",
       "      <td>2</td>\n",
       "      <td>Steins;GateTV (24 eps)Apr 2011 - Sep 20112,473...</td>\n",
       "      <td>9.07</td>\n",
       "      <td>24</td>\n",
       "      <td>Apr 2011 - Sep 2011</td>\n",
       "    </tr>\n",
       "    <tr>\n",
       "      <th>2</th>\n",
       "      <td>3</td>\n",
       "      <td>Bleach: Sennen Kessen-henTV (13 eps)Oct 2022 -...</td>\n",
       "      <td>9.06</td>\n",
       "      <td>13</td>\n",
       "      <td>Oct 2022 - Dec 2022</td>\n",
       "    </tr>\n",
       "    <tr>\n",
       "      <th>3</th>\n",
       "      <td>4</td>\n",
       "      <td>Gintama°TV (51 eps)Apr 2015 - Mar 2016605,113 ...</td>\n",
       "      <td>9.06</td>\n",
       "      <td>51</td>\n",
       "      <td>Apr 2015 - Mar 2016</td>\n",
       "    </tr>\n",
       "    <tr>\n",
       "      <th>4</th>\n",
       "      <td>5</td>\n",
       "      <td>Shingeki no Kyojin Season 3 Part 2TV (10 eps)A...</td>\n",
       "      <td>9.05</td>\n",
       "      <td>10</td>\n",
       "      <td>Apr 2019 - Jul 2019</td>\n",
       "    </tr>\n",
       "    <tr>\n",
       "      <th>5</th>\n",
       "      <td>6</td>\n",
       "      <td>Gintama'TV (51 eps)Apr 2011 - Mar 2012534,105 ...</td>\n",
       "      <td>9.04</td>\n",
       "      <td>51</td>\n",
       "      <td>Apr 2011 - Mar 2012</td>\n",
       "    </tr>\n",
       "    <tr>\n",
       "      <th>6</th>\n",
       "      <td>7</td>\n",
       "      <td>Gintama: The FinalMovie (1 eps)Jan 2021 - Jan ...</td>\n",
       "      <td>9.04</td>\n",
       "      <td>1</td>\n",
       "      <td>Jan 2021 - Jan 2021</td>\n",
       "    </tr>\n",
       "    <tr>\n",
       "      <th>7</th>\n",
       "      <td>8</td>\n",
       "      <td>Hunter x Hunter TV (148 eps)Oct 2011 - Sep 201...</td>\n",
       "      <td>9.04</td>\n",
       "      <td>148</td>\n",
       "      <td>Oct 2011 - Sep 2014</td>\n",
       "    </tr>\n",
       "    <tr>\n",
       "      <th>8</th>\n",
       "      <td>9</td>\n",
       "      <td>Kaguya-sama wa Kokurasetai: Ultra RomanticTV (...</td>\n",
       "      <td>9.04</td>\n",
       "      <td>13</td>\n",
       "      <td>Apr 2022 - Jun 2022</td>\n",
       "    </tr>\n",
       "    <tr>\n",
       "      <th>9</th>\n",
       "      <td>10</td>\n",
       "      <td>Gintama': EnchousenTV (13 eps)Oct 2012 - Mar 2...</td>\n",
       "      <td>9.03</td>\n",
       "      <td>13</td>\n",
       "      <td>Oct 2012 - Mar 2013</td>\n",
       "    </tr>\n",
       "  </tbody>\n",
       "</table>\n",
       "</div>"
      ],
      "text/plain": [
       "   Rank                                              Title  Score  Episodes  \\\n",
       "0     1  Fullmetal Alchemist: BrotherhoodTV (64 eps)Apr...   9.10        64   \n",
       "1     2  Steins;GateTV (24 eps)Apr 2011 - Sep 20112,473...   9.07        24   \n",
       "2     3  Bleach: Sennen Kessen-henTV (13 eps)Oct 2022 -...   9.06        13   \n",
       "3     4  Gintama°TV (51 eps)Apr 2015 - Mar 2016605,113 ...   9.06        51   \n",
       "4     5  Shingeki no Kyojin Season 3 Part 2TV (10 eps)A...   9.05        10   \n",
       "5     6  Gintama'TV (51 eps)Apr 2011 - Mar 2012534,105 ...   9.04        51   \n",
       "6     7  Gintama: The FinalMovie (1 eps)Jan 2021 - Jan ...   9.04         1   \n",
       "7     8  Hunter x Hunter TV (148 eps)Oct 2011 - Sep 201...   9.04       148   \n",
       "8     9  Kaguya-sama wa Kokurasetai: Ultra RomanticTV (...   9.04        13   \n",
       "9    10  Gintama': EnchousenTV (13 eps)Oct 2012 - Mar 2...   9.03        13   \n",
       "\n",
       "            Time_Stamp  \n",
       "0  Apr 2009 - Jul 2010  \n",
       "1  Apr 2011 - Sep 2011  \n",
       "2  Oct 2022 - Dec 2022  \n",
       "3  Apr 2015 - Mar 2016  \n",
       "4  Apr 2019 - Jul 2019  \n",
       "5  Apr 2011 - Mar 2012  \n",
       "6  Jan 2021 - Jan 2021  \n",
       "7  Oct 2011 - Sep 2014  \n",
       "8  Apr 2022 - Jun 2022  \n",
       "9  Oct 2012 - Mar 2013  "
      ]
     },
     "execution_count": 69,
     "metadata": {},
     "output_type": "execute_result"
    }
   ],
   "source": [
    "df['Time_Stamp'] = df['Title'].apply(extract_time)\n",
    "df.head(10)"
   ]
  },
  {
   "cell_type": "code",
   "execution_count": 70,
   "id": "4bb071c8",
   "metadata": {},
   "outputs": [],
   "source": [
    "# now- from time stamp we can extract total months\n",
    "\n",
    "def calculate_total_months(duration):\n",
    "    try:\n",
    "        # Split the range into start and end\n",
    "        start_str, end_str = duration.split(' - ')\n",
    "        \n",
    "        # Convert to datetime (assume day = 1)\n",
    "        start_date = pd.to_datetime(start_str, format='%b %Y')\n",
    "        end_date = pd.to_datetime(end_str, format='%b %Y')\n",
    "        \n",
    "        # Calculate total months (inclusive)\n",
    "        total_months = (end_date.year - start_date.year) * 12 + \\\n",
    "                       (end_date.month - start_date.month) + 1\n",
    "        \n",
    "        return total_months\n",
    "    except:\n",
    "        return None  # Handle invalid/missing formats\n",
    "\n",
    "# Apply the function to create a new column\n",
    "df['total_months'] = df['Time_Stamp'].apply(calculate_total_months)"
   ]
  },
  {
   "cell_type": "code",
   "execution_count": 71,
   "id": "f8e44daf",
   "metadata": {},
   "outputs": [
    {
     "data": {
      "text/html": [
       "<div>\n",
       "<style scoped>\n",
       "    .dataframe tbody tr th:only-of-type {\n",
       "        vertical-align: middle;\n",
       "    }\n",
       "\n",
       "    .dataframe tbody tr th {\n",
       "        vertical-align: top;\n",
       "    }\n",
       "\n",
       "    .dataframe thead th {\n",
       "        text-align: right;\n",
       "    }\n",
       "</style>\n",
       "<table border=\"1\" class=\"dataframe\">\n",
       "  <thead>\n",
       "    <tr style=\"text-align: right;\">\n",
       "      <th></th>\n",
       "      <th>Rank</th>\n",
       "      <th>Title</th>\n",
       "      <th>Score</th>\n",
       "      <th>Episodes</th>\n",
       "      <th>Time_Stamp</th>\n",
       "      <th>total_months</th>\n",
       "    </tr>\n",
       "  </thead>\n",
       "  <tbody>\n",
       "    <tr>\n",
       "      <th>0</th>\n",
       "      <td>1</td>\n",
       "      <td>Fullmetal Alchemist: BrotherhoodTV (64 eps)Apr...</td>\n",
       "      <td>9.10</td>\n",
       "      <td>64</td>\n",
       "      <td>Apr 2009 - Jul 2010</td>\n",
       "      <td>16</td>\n",
       "    </tr>\n",
       "    <tr>\n",
       "      <th>1</th>\n",
       "      <td>2</td>\n",
       "      <td>Steins;GateTV (24 eps)Apr 2011 - Sep 20112,473...</td>\n",
       "      <td>9.07</td>\n",
       "      <td>24</td>\n",
       "      <td>Apr 2011 - Sep 2011</td>\n",
       "      <td>6</td>\n",
       "    </tr>\n",
       "    <tr>\n",
       "      <th>2</th>\n",
       "      <td>3</td>\n",
       "      <td>Bleach: Sennen Kessen-henTV (13 eps)Oct 2022 -...</td>\n",
       "      <td>9.06</td>\n",
       "      <td>13</td>\n",
       "      <td>Oct 2022 - Dec 2022</td>\n",
       "      <td>3</td>\n",
       "    </tr>\n",
       "    <tr>\n",
       "      <th>3</th>\n",
       "      <td>4</td>\n",
       "      <td>Gintama°TV (51 eps)Apr 2015 - Mar 2016605,113 ...</td>\n",
       "      <td>9.06</td>\n",
       "      <td>51</td>\n",
       "      <td>Apr 2015 - Mar 2016</td>\n",
       "      <td>12</td>\n",
       "    </tr>\n",
       "    <tr>\n",
       "      <th>4</th>\n",
       "      <td>5</td>\n",
       "      <td>Shingeki no Kyojin Season 3 Part 2TV (10 eps)A...</td>\n",
       "      <td>9.05</td>\n",
       "      <td>10</td>\n",
       "      <td>Apr 2019 - Jul 2019</td>\n",
       "      <td>4</td>\n",
       "    </tr>\n",
       "  </tbody>\n",
       "</table>\n",
       "</div>"
      ],
      "text/plain": [
       "   Rank                                              Title  Score  Episodes  \\\n",
       "0     1  Fullmetal Alchemist: BrotherhoodTV (64 eps)Apr...   9.10        64   \n",
       "1     2  Steins;GateTV (24 eps)Apr 2011 - Sep 20112,473...   9.07        24   \n",
       "2     3  Bleach: Sennen Kessen-henTV (13 eps)Oct 2022 -...   9.06        13   \n",
       "3     4  Gintama°TV (51 eps)Apr 2015 - Mar 2016605,113 ...   9.06        51   \n",
       "4     5  Shingeki no Kyojin Season 3 Part 2TV (10 eps)A...   9.05        10   \n",
       "\n",
       "            Time_Stamp  total_months  \n",
       "0  Apr 2009 - Jul 2010            16  \n",
       "1  Apr 2011 - Sep 2011             6  \n",
       "2  Oct 2022 - Dec 2022             3  \n",
       "3  Apr 2015 - Mar 2016            12  \n",
       "4  Apr 2019 - Jul 2019             4  "
      ]
     },
     "execution_count": 71,
     "metadata": {},
     "output_type": "execute_result"
    }
   ],
   "source": [
    "df.head()"
   ]
  },
  {
   "cell_type": "code",
   "execution_count": 74,
   "id": "9c66ee74",
   "metadata": {},
   "outputs": [
    {
     "data": {
      "text/plain": [
       "0    Fullmetal Alchemist: BrotherhoodTV (64 eps)Apr...\n",
       "Name: Title, dtype: object"
      ]
     },
     "execution_count": 74,
     "metadata": {},
     "output_type": "execute_result"
    }
   ],
   "source": [
    "# highest score \n",
    "# df['Score'].max() \n",
    "\n",
    "df[df['Score'] == df['Score'].max()]['Title']"
   ]
  },
  {
   "cell_type": "code",
   "execution_count": 77,
   "id": "dff626c5",
   "metadata": {},
   "outputs": [
    {
     "data": {
      "text/plain": [
       "0    Fullmetal Alchemist: BrotherhoodTV (64 eps)Apr...\n",
       "1    Steins;GateTV (24 eps)Apr 2011 - Sep 20112,473...\n",
       "2    Bleach: Sennen Kessen-henTV (13 eps)Oct 2022 -...\n",
       "3    Gintama°TV (51 eps)Apr 2015 - Mar 2016605,113 ...\n",
       "4    Shingeki no Kyojin Season 3 Part 2TV (10 eps)A...\n",
       "Name: Title, dtype: object"
      ]
     },
     "execution_count": 77,
     "metadata": {},
     "output_type": "execute_result"
    }
   ],
   "source": [
    "# showing top 5\n",
    "\n",
    "df[\"Title\"].head()"
   ]
  },
  {
   "cell_type": "code",
   "execution_count": 78,
   "id": "d0c37f97",
   "metadata": {},
   "outputs": [
    {
     "data": {
      "text/html": [
       "<div>\n",
       "<style scoped>\n",
       "    .dataframe tbody tr th:only-of-type {\n",
       "        vertical-align: middle;\n",
       "    }\n",
       "\n",
       "    .dataframe tbody tr th {\n",
       "        vertical-align: top;\n",
       "    }\n",
       "\n",
       "    .dataframe thead th {\n",
       "        text-align: right;\n",
       "    }\n",
       "</style>\n",
       "<table border=\"1\" class=\"dataframe\">\n",
       "  <thead>\n",
       "    <tr style=\"text-align: right;\">\n",
       "      <th></th>\n",
       "      <th>Rank</th>\n",
       "      <th>Title</th>\n",
       "      <th>Score</th>\n",
       "      <th>Episodes</th>\n",
       "      <th>Time_Stamp</th>\n",
       "      <th>total_months</th>\n",
       "    </tr>\n",
       "  </thead>\n",
       "  <tbody>\n",
       "    <tr>\n",
       "      <th>15</th>\n",
       "      <td>16</td>\n",
       "      <td>GintamaTV (201 eps)Apr 2006 - Mar 20101,034,41...</td>\n",
       "      <td>8.94</td>\n",
       "      <td>201</td>\n",
       "      <td>Apr 2006 - Mar 2010</td>\n",
       "      <td>48</td>\n",
       "    </tr>\n",
       "  </tbody>\n",
       "</table>\n",
       "</div>"
      ],
      "text/plain": [
       "    Rank                                              Title  Score  Episodes  \\\n",
       "15    16  GintamaTV (201 eps)Apr 2006 - Mar 20101,034,41...   8.94       201   \n",
       "\n",
       "             Time_Stamp  total_months  \n",
       "15  Apr 2006 - Mar 2010            48  "
      ]
     },
     "execution_count": 78,
     "metadata": {},
     "output_type": "execute_result"
    }
   ],
   "source": [
    "# most episodes \n",
    "\n",
    "df[df['Episodes'] == df['Episodes'].max()]"
   ]
  },
  {
   "cell_type": "code",
   "execution_count": null,
   "id": "fa5fe44d",
   "metadata": {},
   "outputs": [],
   "source": []
  }
 ],
 "metadata": {
  "kernelspec": {
   "display_name": "Python 3",
   "language": "python",
   "name": "python3"
  },
  "language_info": {
   "codemirror_mode": {
    "name": "ipython",
    "version": 3
   },
   "file_extension": ".py",
   "mimetype": "text/x-python",
   "name": "python",
   "nbconvert_exporter": "python",
   "pygments_lexer": "ipython3",
   "version": "3.13.5"
  }
 },
 "nbformat": 4,
 "nbformat_minor": 5
}
