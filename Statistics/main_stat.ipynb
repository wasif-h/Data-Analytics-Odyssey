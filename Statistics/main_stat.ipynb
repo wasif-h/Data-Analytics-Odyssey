{
 "cells": [
  {
   "cell_type": "markdown",
   "id": "e4e62ae6",
   "metadata": {},
   "source": [
    "# Statistic"
   ]
  },
  {
   "cell_type": "code",
   "execution_count": 19,
   "id": "e4878931",
   "metadata": {},
   "outputs": [],
   "source": [
    "import numpy as np\n",
    "import pandas as pd\n",
    "import matplotlib.pyplot as plt\n",
    "import seaborn as sns"
   ]
  },
  {
   "cell_type": "markdown",
   "id": "73b9dd4c",
   "metadata": {},
   "source": [
    "### Five Number Summary"
   ]
  },
  {
   "cell_type": "code",
   "execution_count": 20,
   "id": "eb0bd17a",
   "metadata": {},
   "outputs": [
    {
     "data": {
      "text/plain": [
       "array([  2,   3,   4,   6,   7,   8,   9,  12,  13,  16,  17,  23,  25,\n",
       "        27,  34,  37, 201])"
      ]
     },
     "execution_count": 20,
     "metadata": {},
     "output_type": "execute_result"
    }
   ],
   "source": [
    "arr = np.array([2,3,4,6,7,8, 9, 12, 13, 16, 17, 23, 25, 27, 34, 37, 201])\n",
    "arr"
   ]
  },
  {
   "cell_type": "code",
   "execution_count": 21,
   "id": "068669e8",
   "metadata": {},
   "outputs": [
    {
     "name": "stdout",
     "output_type": "stream",
     "text": [
      "7.0 13.0 25.0\n"
     ]
    }
   ],
   "source": [
    "q1 = np.percentile(arr,25)\n",
    "q2 = np.percentile(arr,50) # median\n",
    "q3 = np.percentile(arr,75)\n",
    "\n",
    "print(q1,q2,q3)"
   ]
  },
  {
   "cell_type": "code",
   "execution_count": 22,
   "id": "cd8c9b33",
   "metadata": {},
   "outputs": [
    {
     "data": {
      "text/plain": [
       "np.float64(18.0)"
      ]
     },
     "execution_count": 22,
     "metadata": {},
     "output_type": "execute_result"
    }
   ],
   "source": [
    "iqr = q3 - q1\n",
    "iqr"
   ]
  },
  {
   "cell_type": "code",
   "execution_count": 23,
   "id": "0c8d99bb",
   "metadata": {},
   "outputs": [
    {
     "name": "stdout",
     "output_type": "stream",
     "text": [
      "UF = 52.0\n",
      "LF = -20.0\n"
     ]
    }
   ],
   "source": [
    "uf = q3 + (1.5*iqr)\n",
    "lf = q1 - (1.5*iqr)\n",
    "\n",
    "print(f\"UF = {uf}\\nLF = {lf}\")"
   ]
  },
  {
   "cell_type": "code",
   "execution_count": 24,
   "id": "aa2b5674",
   "metadata": {},
   "outputs": [
    {
     "name": "stdout",
     "output_type": "stream",
     "text": [
      "[ 2  3  4  6  7  8  9 12 13 16 17 23 25 27 34 37]\n"
     ]
    }
   ],
   "source": [
    "lst = []\n",
    "\n",
    "for i in arr:\n",
    "    if i <= uf and i >= lf:\n",
    "        lst.append(i)\n",
    "\n",
    "arr_no_outliers = np.array(lst)\n",
    "print(arr_no_outliers)"
   ]
  },
  {
   "cell_type": "code",
   "execution_count": 25,
   "id": "4b0a4dfd",
   "metadata": {},
   "outputs": [
    {
     "data": {
      "text/plain": [
       "<Axes: >"
      ]
     },
     "execution_count": 25,
     "metadata": {},
     "output_type": "execute_result"
    },
    {
     "data": {
      "image/png": "[encoded data removed]",
      "text/plain": [
       "<Figure size 640x480 with 1 Axes>"
      ]
     },
     "metadata": {},
     "output_type": "display_data"
    }
   ],
   "source": [
    "# BoxPLot with Outliers \n",
    "\n",
    "sns.boxplot(x=arr)"
   ]
  },
  {
   "cell_type": "code",
   "execution_count": 26,
   "id": "00e8de0d",
   "metadata": {},
   "outputs": [
    {
     "data": {
      "text/plain": [
       "<Axes: >"
      ]
     },
     "execution_count": 26,
     "metadata": {},
     "output_type": "execute_result"
    },
    {
     "data": {
      "image/png": "[encoded data removed]",
      "text/plain": [
       "<Figure size 640x480 with 1 Axes>"
      ]
     },
     "metadata": {},
     "output_type": "display_data"
    }
   ],
   "source": [
    "# boxplot without outliers \n",
    "\n",
    "sns.boxplot(x = arr_no_outliers)"
   ]
  },
  {
   "cell_type": "code",
   "execution_count": 29,
   "id": "7c9d0d81",
   "metadata": {},
   "outputs": [
    {
     "data": {
      "text/plain": [
       "count     17.000000\n",
       "mean      26.117647\n",
       "std       46.320733\n",
       "min        2.000000\n",
       "25%        7.000000\n",
       "50%       13.000000\n",
       "75%       25.000000\n",
       "max      201.000000\n",
       "dtype: float64"
      ]
     },
     "execution_count": 29,
     "metadata": {},
     "output_type": "execute_result"
    }
   ],
   "source": [
    "# here is the shortcut \n",
    "\n",
    "df = pd.Series(arr)\n",
    "df.describe()\n"
   ]
  },
  {
   "cell_type": "code",
   "execution_count": null,
   "id": "f6e8d8c1",
   "metadata": {},
   "outputs": [],
   "source": []
  }
 ],
 "metadata": {
  "kernelspec": {
   "display_name": "Python 3",
   "language": "python",
   "name": "python3"
  },
  "language_info": {
   "codemirror_mode": {
    "name": "ipython",
    "version": 3
   },
   "file_extension": ".py",
   "mimetype": "text/x-python",
   "name": "python",
   "nbconvert_exporter": "python",
   "pygments_lexer": "ipython3",
   "version": "3.13.5"
  }
 },
 "nbformat": 4,
 "nbformat_minor": 5
}
