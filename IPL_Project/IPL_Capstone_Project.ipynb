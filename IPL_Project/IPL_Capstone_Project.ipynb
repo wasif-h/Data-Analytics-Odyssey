{
 "cells": [
  {
   "attachments": {
    "image.png": {
     "image/png": "[encoded data removed]"
    }
   },
   "cell_type": "markdown",
   "id": "8cd0532a",
   "metadata": {},
   "source": [
    "# `IPL Capstone Project`\n",
    "\n",
    "![image.png](attachment:image.png)"
   ]
  },
  {
   "cell_type": "code",
   "execution_count": 42,
   "id": "eca8c70e",
   "metadata": {},
   "outputs": [],
   "source": [
    "import numpy as np\n",
    "import pandas as pd\n",
    "import matplotlib.pyplot as plt\n",
    "import seaborn as sns\n",
    "import warnings\n",
    "warnings.filterwarnings(\"ignore\")"
   ]
  },
  {
   "cell_type": "markdown",
   "id": "5f45b244",
   "metadata": {},
   "source": [
    "## Dataset Info"
   ]
  },
  {
   "cell_type": "code",
   "execution_count": 43,
   "id": "6d5d5a32",
   "metadata": {},
   "outputs": [
    {
     "data": {
      "text/html": [
       "<div>\n",
       "<style scoped>\n",
       "    .dataframe tbody tr th:only-of-type {\n",
       "        vertical-align: middle;\n",
       "    }\n",
       "\n",
       "    .dataframe tbody tr th {\n",
       "        vertical-align: top;\n",
       "    }\n",
       "\n",
       "    .dataframe thead th {\n",
       "        text-align: right;\n",
       "    }\n",
       "</style>\n",
       "<table border=\"1\" class=\"dataframe\">\n",
       "  <thead>\n",
       "    <tr style=\"text-align: right;\">\n",
       "      <th></th>\n",
       "      <th>match_id</th>\n",
       "      <th>date</th>\n",
       "      <th>venue</th>\n",
       "      <th>team1</th>\n",
       "      <th>team2</th>\n",
       "      <th>stage</th>\n",
       "      <th>toss_winner</th>\n",
       "      <th>toss_decision</th>\n",
       "      <th>first_ings_score</th>\n",
       "      <th>first_ings_wkts</th>\n",
       "      <th>second_ings_score</th>\n",
       "      <th>second_ings_wkts</th>\n",
       "      <th>match_winner</th>\n",
       "      <th>won_by</th>\n",
       "      <th>margin</th>\n",
       "      <th>player_of_the_match</th>\n",
       "      <th>top_scorer</th>\n",
       "      <th>highscore</th>\n",
       "      <th>best_bowling</th>\n",
       "      <th>best_bowling_figure</th>\n",
       "    </tr>\n",
       "  </thead>\n",
       "  <tbody>\n",
       "    <tr>\n",
       "      <th>34</th>\n",
       "      <td>35</td>\n",
       "      <td>April 23,2022</td>\n",
       "      <td>Dr DY Patil Sports Academy, Mumbai</td>\n",
       "      <td>Gujarat</td>\n",
       "      <td>Kolkata</td>\n",
       "      <td>Group</td>\n",
       "      <td>Gujarat</td>\n",
       "      <td>Bat</td>\n",
       "      <td>156</td>\n",
       "      <td>9</td>\n",
       "      <td>148</td>\n",
       "      <td>8</td>\n",
       "      <td>Gujarat</td>\n",
       "      <td>Runs</td>\n",
       "      <td>8</td>\n",
       "      <td>Rashid Khan</td>\n",
       "      <td>Hardik Pandya</td>\n",
       "      <td>67</td>\n",
       "      <td>Andre Russell</td>\n",
       "      <td>4--5</td>\n",
       "    </tr>\n",
       "    <tr>\n",
       "      <th>41</th>\n",
       "      <td>42</td>\n",
       "      <td>April 29,2022</td>\n",
       "      <td>Maharashtra Cricket Association Stadium,Pune</td>\n",
       "      <td>Lucknow</td>\n",
       "      <td>Punjab</td>\n",
       "      <td>Group</td>\n",
       "      <td>Punjab</td>\n",
       "      <td>Field</td>\n",
       "      <td>153</td>\n",
       "      <td>8</td>\n",
       "      <td>133</td>\n",
       "      <td>8</td>\n",
       "      <td>Lucknow</td>\n",
       "      <td>Runs</td>\n",
       "      <td>20</td>\n",
       "      <td>Krunal Pandya</td>\n",
       "      <td>Quinton de Kock</td>\n",
       "      <td>46</td>\n",
       "      <td>Kagiso Rabada</td>\n",
       "      <td>4--38</td>\n",
       "    </tr>\n",
       "    <tr>\n",
       "      <th>60</th>\n",
       "      <td>61</td>\n",
       "      <td>May 14,2022</td>\n",
       "      <td>Maharashtra Cricket Association Stadium,Pune</td>\n",
       "      <td>Hyderabad</td>\n",
       "      <td>Kolkata</td>\n",
       "      <td>Group</td>\n",
       "      <td>Kolkata</td>\n",
       "      <td>Bat</td>\n",
       "      <td>177</td>\n",
       "      <td>6</td>\n",
       "      <td>123</td>\n",
       "      <td>8</td>\n",
       "      <td>Kolkata</td>\n",
       "      <td>Runs</td>\n",
       "      <td>54</td>\n",
       "      <td>Andre Russell</td>\n",
       "      <td>Andre Russell</td>\n",
       "      <td>49</td>\n",
       "      <td>Andre Russell</td>\n",
       "      <td>3--22</td>\n",
       "    </tr>\n",
       "    <tr>\n",
       "      <th>44</th>\n",
       "      <td>45</td>\n",
       "      <td>May 1,2022</td>\n",
       "      <td>Wankhede Stadium, Mumbai</td>\n",
       "      <td>Delhi</td>\n",
       "      <td>Lucknow</td>\n",
       "      <td>Group</td>\n",
       "      <td>Lucknow</td>\n",
       "      <td>Bat</td>\n",
       "      <td>195</td>\n",
       "      <td>3</td>\n",
       "      <td>189</td>\n",
       "      <td>7</td>\n",
       "      <td>Lucknow</td>\n",
       "      <td>Runs</td>\n",
       "      <td>6</td>\n",
       "      <td>Mohsin Khan</td>\n",
       "      <td>KL Rahul</td>\n",
       "      <td>77</td>\n",
       "      <td>Mohsin Khan</td>\n",
       "      <td>4--16</td>\n",
       "    </tr>\n",
       "    <tr>\n",
       "      <th>0</th>\n",
       "      <td>1</td>\n",
       "      <td>March 26,2022</td>\n",
       "      <td>Wankhede Stadium, Mumbai</td>\n",
       "      <td>Chennai</td>\n",
       "      <td>Kolkata</td>\n",
       "      <td>Group</td>\n",
       "      <td>Kolkata</td>\n",
       "      <td>Field</td>\n",
       "      <td>131</td>\n",
       "      <td>5</td>\n",
       "      <td>133</td>\n",
       "      <td>4</td>\n",
       "      <td>Kolkata</td>\n",
       "      <td>Wickets</td>\n",
       "      <td>6</td>\n",
       "      <td>Umesh Yadav</td>\n",
       "      <td>MS Dhoni</td>\n",
       "      <td>50</td>\n",
       "      <td>Dwayne Bravo</td>\n",
       "      <td>3--20</td>\n",
       "    </tr>\n",
       "  </tbody>\n",
       "</table>\n",
       "</div>"
      ],
      "text/plain": [
       "    match_id           date                                         venue  \\\n",
       "34        35  April 23,2022            Dr DY Patil Sports Academy, Mumbai   \n",
       "41        42  April 29,2022  Maharashtra Cricket Association Stadium,Pune   \n",
       "60        61    May 14,2022  Maharashtra Cricket Association Stadium,Pune   \n",
       "44        45     May 1,2022                      Wankhede Stadium, Mumbai   \n",
       "0          1  March 26,2022                      Wankhede Stadium, Mumbai   \n",
       "\n",
       "        team1    team2  stage toss_winner toss_decision  first_ings_score  \\\n",
       "34    Gujarat  Kolkata  Group     Gujarat           Bat               156   \n",
       "41    Lucknow   Punjab  Group      Punjab         Field               153   \n",
       "60  Hyderabad  Kolkata  Group     Kolkata           Bat               177   \n",
       "44      Delhi  Lucknow  Group     Lucknow           Bat               195   \n",
       "0     Chennai  Kolkata  Group     Kolkata         Field               131   \n",
       "\n",
       "    first_ings_wkts  second_ings_score  second_ings_wkts match_winner  \\\n",
       "34                9                148                 8      Gujarat   \n",
       "41                8                133                 8      Lucknow   \n",
       "60                6                123                 8      Kolkata   \n",
       "44                3                189                 7      Lucknow   \n",
       "0                 5                133                 4      Kolkata   \n",
       "\n",
       "     won_by  margin player_of_the_match       top_scorer  highscore  \\\n",
       "34     Runs       8         Rashid Khan    Hardik Pandya         67   \n",
       "41     Runs      20       Krunal Pandya  Quinton de Kock         46   \n",
       "60     Runs      54       Andre Russell    Andre Russell         49   \n",
       "44     Runs       6         Mohsin Khan         KL Rahul         77   \n",
       "0   Wickets       6         Umesh Yadav         MS Dhoni         50   \n",
       "\n",
       "     best_bowling best_bowling_figure  \n",
       "34  Andre Russell                4--5  \n",
       "41  Kagiso Rabada               4--38  \n",
       "60  Andre Russell               3--22  \n",
       "44    Mohsin Khan               4--16  \n",
       "0    Dwayne Bravo               3--20  "
      ]
     },
     "execution_count": 43,
     "metadata": {},
     "output_type": "execute_result"
    }
   ],
   "source": [
    "df = pd.read_csv(r\"..\\datasets\\IPL.csv\")\n",
    "df.sample(5)"
   ]
  },
  {
   "cell_type": "code",
   "execution_count": 44,
   "id": "ecef50b2",
   "metadata": {},
   "outputs": [
    {
     "name": "stdout",
     "output_type": "stream",
     "text": [
      "<class 'pandas.core.frame.DataFrame'>\n",
      "RangeIndex: 74 entries, 0 to 73\n",
      "Data columns (total 20 columns):\n",
      " #   Column               Non-Null Count  Dtype \n",
      "---  ------               --------------  ----- \n",
      " 0   match_id             74 non-null     int64 \n",
      " 1   date                 74 non-null     object\n",
      " 2   venue                74 non-null     object\n",
      " 3   team1                74 non-null     object\n",
      " 4   team2                74 non-null     object\n",
      " 5   stage                74 non-null     object\n",
      " 6   toss_winner          74 non-null     object\n",
      " 7   toss_decision        74 non-null     object\n",
      " 8   first_ings_score     74 non-null     int64 \n",
      " 9   first_ings_wkts      74 non-null     int64 \n",
      " 10  second_ings_score    74 non-null     int64 \n",
      " 11  second_ings_wkts     74 non-null     int64 \n",
      " 12  match_winner         74 non-null     object\n",
      " 13  won_by               74 non-null     object\n",
      " 14  margin               74 non-null     int64 \n",
      " 15  player_of_the_match  74 non-null     object\n",
      " 16  top_scorer           74 non-null     object\n",
      " 17  highscore            74 non-null     int64 \n",
      " 18  best_bowling         74 non-null     object\n",
      " 19  best_bowling_figure  74 non-null     object\n",
      "dtypes: int64(7), object(13)\n",
      "memory usage: 11.7+ KB\n"
     ]
    }
   ],
   "source": [
    "df.info()"
   ]
  },
  {
   "cell_type": "code",
   "execution_count": 45,
   "id": "3e977abd",
   "metadata": {},
   "outputs": [
    {
     "name": "stdout",
     "output_type": "stream",
     "text": [
      "Rows = 74 | Columns = 20\n"
     ]
    }
   ],
   "source": [
    "print(f\"Rows = {df.shape[0]} | Columns = {df.shape[1]}\")"
   ]
  },
  {
   "cell_type": "code",
   "execution_count": 46,
   "id": "4ffb8063",
   "metadata": {},
   "outputs": [
    {
     "data": {
      "text/plain": [
       "match_id               0\n",
       "date                   0\n",
       "venue                  0\n",
       "team1                  0\n",
       "team2                  0\n",
       "stage                  0\n",
       "toss_winner            0\n",
       "toss_decision          0\n",
       "first_ings_score       0\n",
       "first_ings_wkts        0\n",
       "second_ings_score      0\n",
       "second_ings_wkts       0\n",
       "match_winner           0\n",
       "won_by                 0\n",
       "margin                 0\n",
       "player_of_the_match    0\n",
       "top_scorer             0\n",
       "highscore              0\n",
       "best_bowling           0\n",
       "best_bowling_figure    0\n",
       "dtype: int64"
      ]
     },
     "execution_count": 46,
     "metadata": {},
     "output_type": "execute_result"
    }
   ],
   "source": [
    "df.isnull().sum()"
   ]
  },
  {
   "cell_type": "markdown",
   "id": "b65bdcb5",
   "metadata": {},
   "source": [
    "## Analysis"
   ]
  },
  {
   "cell_type": "markdown",
   "id": "d08a834f",
   "metadata": {},
   "source": [
    "1. Most Match Winner"
   ]
  },
  {
   "cell_type": "code",
   "execution_count": 47,
   "id": "0210f23f",
   "metadata": {},
   "outputs": [
    {
     "data": {
      "text/plain": [
       "match_winner\n",
       "Gujarat      12\n",
       "Rajasthan    10\n",
       "Banglore      9\n",
       "Lucknow       9\n",
       "Punjab        7\n",
       "Delhi         7\n",
       "Kolkata       6\n",
       "Hyderabad     6\n",
       "Chennai       4\n",
       "Mumbai        4\n",
       "Name: count, dtype: int64"
      ]
     },
     "execution_count": 47,
     "metadata": {},
     "output_type": "execute_result"
    }
   ],
   "source": [
    "match_wins = df['match_winner'].value_counts()\n",
    "match_wins"
   ]
  },
  {
   "cell_type": "code",
   "execution_count": 48,
   "id": "8ee6b625",
   "metadata": {},
   "outputs": [
    {
     "data": {
      "text/plain": [
       "<Axes: ylabel='match_winner'>"
      ]
     },
     "execution_count": 48,
     "metadata": {},
     "output_type": "execute_result"
    },
    {
     "data": {
      "image/png": "[encoded data removed]",
      "text/plain": [
       "<Figure size 640x480 with 1 Axes>"
      ]
     },
     "metadata": {},
     "output_type": "display_data"
    }
   ],
   "source": [
    "\n",
    "sns.barplot(y=match_wins.index, x=match_wins.values,palette='viridis')"
   ]
  },
  {
   "cell_type": "markdown",
   "id": "7afb8dd9",
   "metadata": {},
   "source": [
    "2. Toss Decision Trend"
   ]
  },
  {
   "cell_type": "code",
   "execution_count": 49,
   "id": "b5cc12d5",
   "metadata": {},
   "outputs": [
    {
     "data": {
      "text/plain": [
       "<Axes: xlabel='toss_decision', ylabel='count'>"
      ]
     },
     "execution_count": 49,
     "metadata": {},
     "output_type": "execute_result"
    },
    {
     "data": {
      "image/png": "[encoded data removed]",
      "text/plain": [
       "<Figure size 640x480 with 1 Axes>"
      ]
     },
     "metadata": {},
     "output_type": "display_data"
    }
   ],
   "source": [
    "sns.countplot(x=df['toss_decision'],palette='viridis')"
   ]
  },
  {
   "cell_type": "markdown",
   "id": "56634099",
   "metadata": {},
   "source": [
    "3. Toss Winner VS Match Winner"
   ]
  },
  {
   "cell_type": "code",
   "execution_count": 50,
   "id": "5620dd2b",
   "metadata": {},
   "outputs": [
    {
     "name": "stdout",
     "output_type": "stream",
     "text": [
      "Winning Chance = 48.65\n"
     ]
    }
   ],
   "source": [
    "count_tw_mw = df[df['toss_winner'] == df['match_winner']]['match_id'].count()\n",
    "percentage = count_tw_mw * 100 / df.shape[0]\n",
    "print(f\"Winning Chance = {percentage.round(2)}\")"
   ]
  },
  {
   "cell_type": "code",
   "execution_count": null,
   "id": "9f2bbed4",
   "metadata": {},
   "outputs": [],
   "source": []
  },
  {
   "cell_type": "code",
   "execution_count": null,
   "id": "6db33bbe",
   "metadata": {},
   "outputs": [],
   "source": []
  },
  {
   "cell_type": "code",
   "execution_count": null,
   "id": "a905780c",
   "metadata": {},
   "outputs": [],
   "source": []
  },
  {
   "cell_type": "code",
   "execution_count": null,
   "id": "5c1ff19e",
   "metadata": {},
   "outputs": [],
   "source": []
  },
  {
   "cell_type": "code",
   "execution_count": null,
   "id": "d407e1b6",
   "metadata": {},
   "outputs": [],
   "source": []
  },
  {
   "cell_type": "code",
   "execution_count": null,
   "id": "f8123ac9",
   "metadata": {},
   "outputs": [],
   "source": []
  },
  {
   "cell_type": "code",
   "execution_count": null,
   "id": "115dbad9",
   "metadata": {},
   "outputs": [],
   "source": []
  },
  {
   "cell_type": "code",
   "execution_count": null,
   "id": "91cffb4b",
   "metadata": {},
   "outputs": [],
   "source": []
  },
  {
   "cell_type": "code",
   "execution_count": null,
   "id": "b887b258",
   "metadata": {},
   "outputs": [],
   "source": []
  },
  {
   "cell_type": "code",
   "execution_count": null,
   "id": "f64320ab",
   "metadata": {},
   "outputs": [],
   "source": []
  },
  {
   "cell_type": "code",
   "execution_count": null,
   "id": "93b5ee8f",
   "metadata": {},
   "outputs": [],
   "source": []
  },
  {
   "cell_type": "code",
   "execution_count": null,
   "id": "688d5a0f",
   "metadata": {},
   "outputs": [],
   "source": []
  },
  {
   "cell_type": "code",
   "execution_count": null,
   "id": "f78bc8be",
   "metadata": {},
   "outputs": [],
   "source": []
  },
  {
   "cell_type": "code",
   "execution_count": null,
   "id": "7d4fed8e",
   "metadata": {},
   "outputs": [],
   "source": []
  },
  {
   "cell_type": "code",
   "execution_count": null,
   "id": "1d1a18db",
   "metadata": {},
   "outputs": [],
   "source": []
  },
  {
   "cell_type": "code",
   "execution_count": null,
   "id": "0f91406a",
   "metadata": {},
   "outputs": [],
   "source": []
  },
  {
   "cell_type": "code",
   "execution_count": null,
   "id": "9b4bf26f",
   "metadata": {},
   "outputs": [],
   "source": []
  },
  {
   "cell_type": "code",
   "execution_count": null,
   "id": "296ad5cd",
   "metadata": {},
   "outputs": [],
   "source": []
  }
 ],
 "metadata": {
  "kernelspec": {
   "display_name": "Python 3",
   "language": "python",
   "name": "python3"
  },
  "language_info": {
   "codemirror_mode": {
    "name": "ipython",
    "version": 3
   },
   "file_extension": ".py",
   "mimetype": "text/x-python",
   "name": "python",
   "nbconvert_exporter": "python",
   "pygments_lexer": "ipython3",
   "version": "3.13.5"
  }
 },
 "nbformat": 4,
 "nbformat_minor": 5
}
